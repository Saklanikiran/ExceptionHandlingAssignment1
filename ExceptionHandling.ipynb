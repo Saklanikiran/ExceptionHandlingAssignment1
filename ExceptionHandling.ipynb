{
 "cells": [
  {
   "cell_type": "code",
   "execution_count": 1,
   "id": "8a6c879c-6f17-4ad3-854c-e6de89e48b3a",
   "metadata": {},
   "outputs": [
    {
     "data": {
      "text/plain": [
       "'\\nAn syntax error is an issue in a program that prevents the program from completing its task. \\nAn exception is a condition that interrupts the normal flow of the program.\\n\\n'"
      ]
     },
     "execution_count": 1,
     "metadata": {},
     "output_type": "execute_result"
    }
   ],
   "source": [
    "# Ans : 1\n",
    "'''\n",
    "Exception : An exception is an incident that happens while executing a program that cause the regular course of the \n",
    "            program's commands to be distrupted.\n",
    "'''\n",
    "\n",
    "# Difference btw Exception and syntax error\n",
    "\n",
    "'''\n",
    "An syntax error is an issue in a program that prevents the program from completing its task. \n",
    "An exception is a condition that interrupts the normal flow of the program.\n",
    "\n",
    "'''\n"
   ]
  },
  {
   "cell_type": "code",
   "execution_count": 3,
   "id": "48f86d7e-7734-467e-a4c4-d5f38ba5a953",
   "metadata": {},
   "outputs": [
    {
     "name": "stdin",
     "output_type": "stream",
     "text": [
      "Enter a number 2\n"
     ]
    },
    {
     "name": "stdout",
     "output_type": "stream",
     "text": [
      "2\n"
     ]
    },
    {
     "ename": "ZeroDivisionError",
     "evalue": "division by zero",
     "output_type": "error",
     "traceback": [
      "\u001b[0;31m---------------------------------------------------------------------------\u001b[0m",
      "\u001b[0;31mZeroDivisionError\u001b[0m                         Traceback (most recent call last)",
      "Cell \u001b[0;32mIn[3], line 11\u001b[0m\n\u001b[1;32m      9\u001b[0m a\u001b[38;5;241m=\u001b[39m\u001b[38;5;28mint\u001b[39m(\u001b[38;5;28minput\u001b[39m(\u001b[38;5;124m'\u001b[39m\u001b[38;5;124mEnter a number\u001b[39m\u001b[38;5;124m'\u001b[39m))\n\u001b[1;32m     10\u001b[0m \u001b[38;5;28mprint\u001b[39m(a\u001b[38;5;241m+\u001b[39m\u001b[38;5;241m0\u001b[39m)\n\u001b[0;32m---> 11\u001b[0m \u001b[38;5;28mprint\u001b[39m(\u001b[43ma\u001b[49m\u001b[38;5;241;43m/\u001b[39;49m\u001b[38;5;241;43m0\u001b[39;49m)\n\u001b[1;32m     12\u001b[0m \u001b[38;5;28mprint\u001b[39m(a\u001b[38;5;241m*\u001b[39m\u001b[38;5;241m0\u001b[39m)\n",
      "\u001b[0;31mZeroDivisionError\u001b[0m: division by zero"
     ]
    }
   ],
   "source": [
    "# Ans : 2\n",
    "'''\n",
    "When an exception is not handled the program terminates abruptly and the code past the line that caused the \n",
    "exception will not get executed.\n",
    "\n",
    "'''\n",
    "# Example : This program will not execute completly because of the ZeroDivisionError\n",
    "\n",
    "a=int(input('Enter a number'))\n",
    "print(a+0)\n",
    "print(a/0)\n",
    "print(a*0)"
   ]
  },
  {
   "cell_type": "code",
   "execution_count": 2,
   "id": "440b5ba4-81c1-4284-9e45-b49be36e18b9",
   "metadata": {},
   "outputs": [
    {
     "name": "stdout",
     "output_type": "stream",
     "text": [
      "Exception is : division by zero\n"
     ]
    }
   ],
   "source": [
    "# Ans : 3\n",
    "'''\n",
    "'try' statement is used to catch exception.\n",
    "'except' statement is used to handle the exception.\n",
    "\n",
    "'''\n",
    "# Example :\n",
    "try :\n",
    "    a=10\n",
    "    b=a/0     # Exception occur\n",
    "except ZeroDivisionError as e: \n",
    "    print(\"Exception is :\",e)\n",
    "    "
   ]
  },
  {
   "cell_type": "code",
   "execution_count": 8,
   "id": "4e67e603-efe2-43bf-a9d8-ab4ad7718ba0",
   "metadata": {},
   "outputs": [
    {
     "name": "stdout",
     "output_type": "stream",
     "text": [
      "This is finally block\n"
     ]
    },
    {
     "ename": "Exception",
     "evalue": " This exception is raised by raise keyword",
     "output_type": "error",
     "traceback": [
      "\u001b[0;31m---------------------------------------------------------------------------\u001b[0m",
      "\u001b[0;31mException\u001b[0m                                 Traceback (most recent call last)",
      "Cell \u001b[0;32mIn[8], line 26\u001b[0m\n\u001b[1;32m     24\u001b[0m \u001b[38;5;28;01mfinally\u001b[39;00m:\n\u001b[1;32m     25\u001b[0m     \u001b[38;5;28mprint\u001b[39m(\u001b[38;5;124m\"\u001b[39m\u001b[38;5;124mThis is finally block\u001b[39m\u001b[38;5;124m\"\u001b[39m)\n\u001b[0;32m---> 26\u001b[0m \u001b[38;5;28;01mraise\u001b[39;00m \u001b[38;5;167;01mException\u001b[39;00m(\u001b[38;5;124m\"\u001b[39m\u001b[38;5;124m This exception is raised by raise keyword\u001b[39m\u001b[38;5;124m\"\u001b[39m)   \n",
      "\u001b[0;31mException\u001b[0m:  This exception is raised by raise keyword"
     ]
    }
   ],
   "source": [
    "# Ans : 4\n",
    "'''  \n",
    "a:\n",
    " try : This block will test the excepted error to occur.\n",
    " else : If there is no exception then this block will be executed.\n",
    "\n",
    "'''\n",
    "# b :\n",
    "# finally : finally block always gets executed either exception is generated or not.\n",
    "\n",
    "'''\n",
    "c :\n",
    "  raise : python raise keyword is used to raise exception or errors.\n",
    "\n",
    "'''\n",
    "# Example :\n",
    "try : \n",
    "    f=open(\"test.txt\",'w')\n",
    "    f.write(\"this is my test file\")\n",
    "except FileNotFoundError as e:\n",
    "    print(e)\n",
    "else :\n",
    "    f.close()\n",
    "finally:\n",
    "    print(\"This is finally block\")\n",
    "raise Exception(\" This exception is raised by raise keyword\")   \n"
   ]
  },
  {
   "cell_type": "code",
   "execution_count": 9,
   "id": "fa4ce192-f77d-4882-9a81-8a5f6b7f6e09",
   "metadata": {},
   "outputs": [
    {
     "name": "stdin",
     "output_type": "stream",
     "text": [
      "Enter your age 15\n"
     ]
    },
    {
     "name": "stdout",
     "output_type": "stream",
     "text": [
      "you can not vote\n"
     ]
    }
   ],
   "source": [
    "# Ans : 5\n",
    "'''\n",
    "custom exception : custom exception is a user-defined exception which inhetits from the Exception class.\n",
    "\n",
    "Need of custom exception :\n",
    "   > Add information about project-related problem.\n",
    "   > We can traceback if an exception is raised.\n",
    "'''\n",
    "# Example :\n",
    "class InvalidAgeException(Exception):\n",
    "    def __init__(self,msg):\n",
    "        self.msg=msg\n",
    "def checkAge(age):\n",
    "    if age<18:\n",
    "        raise InvalidAgeException(\"you can not vote\")\n",
    "    else:\n",
    "        print(\"your age is valid for vote\")\n",
    "try:\n",
    "    age=int(input('Enter your age'))\n",
    "    checkAge(age)\n",
    "except InvalidAgeException as e:\n",
    "    print(e)\n",
    "    "
   ]
  },
  {
   "cell_type": "code",
   "execution_count": null,
   "id": "13560749-3a3e-4fc5-b416-daa29ff5c50a",
   "metadata": {},
   "outputs": [],
   "source": [
    "# Ans : 6\n",
    "class InvalidDivisionError(Exception):\n",
    "    def __init__(self,num):\n",
    "        self.num=num\n",
    "def checknum(num):\n",
    "    if num>0:\n",
    "        raise InvalidDivisionError(num)\n",
    "    else:\n",
    "        10/num\n",
    "try:\n",
    "    num=int(input('Enter a number'))\n",
    "    checknum(num)\n",
    "except InvalidDivisionError as e:\n",
    "    print(e)\n",
    "    "
   ]
  },
  {
   "cell_type": "code",
   "execution_count": null,
   "id": "60d96cf8-7f6f-489c-b9a8-5e8d4b805e9a",
   "metadata": {},
   "outputs": [],
   "source": []
  }
 ],
 "metadata": {
  "kernelspec": {
   "display_name": "Python 3 (ipykernel)",
   "language": "python",
   "name": "python3"
  },
  "language_info": {
   "codemirror_mode": {
    "name": "ipython",
    "version": 3
   },
   "file_extension": ".py",
   "mimetype": "text/x-python",
   "name": "python",
   "nbconvert_exporter": "python",
   "pygments_lexer": "ipython3",
   "version": "3.10.8"
  }
 },
 "nbformat": 4,
 "nbformat_minor": 5
}
